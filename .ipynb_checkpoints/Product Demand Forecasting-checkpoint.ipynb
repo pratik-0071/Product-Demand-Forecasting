{
 "cells": [
  {
   "cell_type": "code",
   "execution_count": 2,
   "id": "58230cae",
   "metadata": {},
   "outputs": [],
   "source": [
    "import numpy as np\n",
    "import pandas as pd\n",
    "import seaborn as sns\n",
    "import matplotlib.pyplot as plt"
   ]
  },
  {
   "cell_type": "code",
   "execution_count": 18,
   "id": "5be9e85b",
   "metadata": {},
   "outputs": [],
   "source": [
    "df = pd.read_csv('/Users/pratikkapse/MachineLearningLab/Product_Demand_Forecasting/Historical Product Demand.csv')"
   ]
  },
  {
   "cell_type": "code",
   "execution_count": 19,
   "id": "3ef907d6",
   "metadata": {},
   "outputs": [
    {
     "data": {
      "text/html": [
       "<div>\n",
       "<style scoped>\n",
       "    .dataframe tbody tr th:only-of-type {\n",
       "        vertical-align: middle;\n",
       "    }\n",
       "\n",
       "    .dataframe tbody tr th {\n",
       "        vertical-align: top;\n",
       "    }\n",
       "\n",
       "    .dataframe thead th {\n",
       "        text-align: right;\n",
       "    }\n",
       "</style>\n",
       "<table border=\"1\" class=\"dataframe\">\n",
       "  <thead>\n",
       "    <tr style=\"text-align: right;\">\n",
       "      <th></th>\n",
       "      <th>Product_Code</th>\n",
       "      <th>Warehouse</th>\n",
       "      <th>Product_Category</th>\n",
       "      <th>Date</th>\n",
       "      <th>Order_Demand</th>\n",
       "    </tr>\n",
       "  </thead>\n",
       "  <tbody>\n",
       "    <tr>\n",
       "      <th>0</th>\n",
       "      <td>Product_0993</td>\n",
       "      <td>Whse_J</td>\n",
       "      <td>Category_028</td>\n",
       "      <td>2012/7/27</td>\n",
       "      <td>100</td>\n",
       "    </tr>\n",
       "    <tr>\n",
       "      <th>1</th>\n",
       "      <td>Product_0979</td>\n",
       "      <td>Whse_J</td>\n",
       "      <td>Category_028</td>\n",
       "      <td>2012/1/19</td>\n",
       "      <td>500</td>\n",
       "    </tr>\n",
       "    <tr>\n",
       "      <th>2</th>\n",
       "      <td>Product_0979</td>\n",
       "      <td>Whse_J</td>\n",
       "      <td>Category_028</td>\n",
       "      <td>2012/2/3</td>\n",
       "      <td>500</td>\n",
       "    </tr>\n",
       "    <tr>\n",
       "      <th>3</th>\n",
       "      <td>Product_0979</td>\n",
       "      <td>Whse_J</td>\n",
       "      <td>Category_028</td>\n",
       "      <td>2012/2/9</td>\n",
       "      <td>500</td>\n",
       "    </tr>\n",
       "    <tr>\n",
       "      <th>4</th>\n",
       "      <td>Product_0979</td>\n",
       "      <td>Whse_J</td>\n",
       "      <td>Category_028</td>\n",
       "      <td>2012/3/2</td>\n",
       "      <td>500</td>\n",
       "    </tr>\n",
       "  </tbody>\n",
       "</table>\n",
       "</div>"
      ],
      "text/plain": [
       "   Product_Code Warehouse Product_Category       Date Order_Demand\n",
       "0  Product_0993    Whse_J     Category_028  2012/7/27         100 \n",
       "1  Product_0979    Whse_J     Category_028  2012/1/19         500 \n",
       "2  Product_0979    Whse_J     Category_028   2012/2/3         500 \n",
       "3  Product_0979    Whse_J     Category_028   2012/2/9         500 \n",
       "4  Product_0979    Whse_J     Category_028   2012/3/2         500 "
      ]
     },
     "execution_count": 19,
     "metadata": {},
     "output_type": "execute_result"
    }
   ],
   "source": [
    "df.head()"
   ]
  },
  {
   "cell_type": "code",
   "execution_count": 5,
   "id": "0efe6d11",
   "metadata": {},
   "outputs": [
    {
     "data": {
      "text/plain": [
       "Product_Code        object\n",
       "Warehouse           object\n",
       "Product_Category    object\n",
       "Date                object\n",
       "Order_Demand        object\n",
       "dtype: object"
      ]
     },
     "execution_count": 5,
     "metadata": {},
     "output_type": "execute_result"
    }
   ],
   "source": [
    "df.dtypes"
   ]
  },
  {
   "cell_type": "code",
   "execution_count": 6,
   "id": "dc393bbd",
   "metadata": {},
   "outputs": [
    {
     "data": {
      "text/plain": [
       "2160"
      ]
     },
     "execution_count": 6,
     "metadata": {},
     "output_type": "execute_result"
    }
   ],
   "source": [
    "df.Product_Code.nunique()"
   ]
  },
  {
   "cell_type": "code",
   "execution_count": 7,
   "id": "e45dd895",
   "metadata": {},
   "outputs": [
    {
     "data": {
      "text/plain": [
       "4"
      ]
     },
     "execution_count": 7,
     "metadata": {},
     "output_type": "execute_result"
    }
   ],
   "source": [
    "df.Warehouse.nunique()"
   ]
  },
  {
   "cell_type": "code",
   "execution_count": 8,
   "id": "b62890cb",
   "metadata": {},
   "outputs": [
    {
     "data": {
      "text/plain": [
       "33"
      ]
     },
     "execution_count": 8,
     "metadata": {},
     "output_type": "execute_result"
    }
   ],
   "source": [
    "df.Product_Category.nunique()"
   ]
  },
  {
   "cell_type": "code",
   "execution_count": 9,
   "id": "ff2cf876",
   "metadata": {},
   "outputs": [
    {
     "data": {
      "text/plain": [
       "Product_Code            0\n",
       "Warehouse               0\n",
       "Product_Category        0\n",
       "Date                11239\n",
       "Order_Demand            0\n",
       "dtype: int64"
      ]
     },
     "execution_count": 9,
     "metadata": {},
     "output_type": "execute_result"
    }
   ],
   "source": [
    "df.isna().sum()"
   ]
  },
  {
   "cell_type": "code",
   "execution_count": 20,
   "id": "b2681004",
   "metadata": {},
   "outputs": [],
   "source": [
    "df.dropna(inplace = True)"
   ]
  },
  {
   "cell_type": "code",
   "execution_count": 11,
   "id": "33364f0b",
   "metadata": {},
   "outputs": [
    {
     "data": {
      "text/plain": [
       "Product_Code        0\n",
       "Warehouse           0\n",
       "Product_Category    0\n",
       "Date                0\n",
       "Order_Demand        0\n",
       "dtype: int64"
      ]
     },
     "execution_count": 11,
     "metadata": {},
     "output_type": "execute_result"
    }
   ],
   "source": [
    "df.isna().sum()"
   ]
  },
  {
   "cell_type": "code",
   "execution_count": 12,
   "id": "70dd1b91",
   "metadata": {},
   "outputs": [],
   "source": [
    "df = df.set_index('Date')\n",
    "df.index = pd.to_datetime(df.index)"
   ]
  },
  {
   "cell_type": "code",
   "execution_count": 13,
   "id": "3d4ba4e6",
   "metadata": {},
   "outputs": [
    {
     "data": {
      "text/html": [
       "<div>\n",
       "<style scoped>\n",
       "    .dataframe tbody tr th:only-of-type {\n",
       "        vertical-align: middle;\n",
       "    }\n",
       "\n",
       "    .dataframe tbody tr th {\n",
       "        vertical-align: top;\n",
       "    }\n",
       "\n",
       "    .dataframe thead th {\n",
       "        text-align: right;\n",
       "    }\n",
       "</style>\n",
       "<table border=\"1\" class=\"dataframe\">\n",
       "  <thead>\n",
       "    <tr style=\"text-align: right;\">\n",
       "      <th></th>\n",
       "      <th>Product_Code</th>\n",
       "      <th>Warehouse</th>\n",
       "      <th>Product_Category</th>\n",
       "      <th>Order_Demand</th>\n",
       "    </tr>\n",
       "    <tr>\n",
       "      <th>Date</th>\n",
       "      <th></th>\n",
       "      <th></th>\n",
       "      <th></th>\n",
       "      <th></th>\n",
       "    </tr>\n",
       "  </thead>\n",
       "  <tbody>\n",
       "    <tr>\n",
       "      <th>2012-07-27</th>\n",
       "      <td>Product_0993</td>\n",
       "      <td>Whse_J</td>\n",
       "      <td>Category_028</td>\n",
       "      <td>100</td>\n",
       "    </tr>\n",
       "    <tr>\n",
       "      <th>2012-01-19</th>\n",
       "      <td>Product_0979</td>\n",
       "      <td>Whse_J</td>\n",
       "      <td>Category_028</td>\n",
       "      <td>500</td>\n",
       "    </tr>\n",
       "    <tr>\n",
       "      <th>2012-02-03</th>\n",
       "      <td>Product_0979</td>\n",
       "      <td>Whse_J</td>\n",
       "      <td>Category_028</td>\n",
       "      <td>500</td>\n",
       "    </tr>\n",
       "    <tr>\n",
       "      <th>2012-02-09</th>\n",
       "      <td>Product_0979</td>\n",
       "      <td>Whse_J</td>\n",
       "      <td>Category_028</td>\n",
       "      <td>500</td>\n",
       "    </tr>\n",
       "    <tr>\n",
       "      <th>2012-03-02</th>\n",
       "      <td>Product_0979</td>\n",
       "      <td>Whse_J</td>\n",
       "      <td>Category_028</td>\n",
       "      <td>500</td>\n",
       "    </tr>\n",
       "  </tbody>\n",
       "</table>\n",
       "</div>"
      ],
      "text/plain": [
       "            Product_Code Warehouse Product_Category Order_Demand\n",
       "Date                                                            \n",
       "2012-07-27  Product_0993    Whse_J     Category_028         100 \n",
       "2012-01-19  Product_0979    Whse_J     Category_028         500 \n",
       "2012-02-03  Product_0979    Whse_J     Category_028         500 \n",
       "2012-02-09  Product_0979    Whse_J     Category_028         500 \n",
       "2012-03-02  Product_0979    Whse_J     Category_028         500 "
      ]
     },
     "execution_count": 13,
     "metadata": {},
     "output_type": "execute_result"
    }
   ],
   "source": [
    "df.head()"
   ]
  },
  {
   "cell_type": "code",
   "execution_count": 22,
   "id": "1eddf8cb",
   "metadata": {},
   "outputs": [],
   "source": [
    "def convert_to_int(x):\n",
    "    try:\n",
    "        return int(x)\n",
    "    except:\n",
    "        return int(x[1:-1])\n",
    "\n",
    "# Apply the function to the 'Order_Demand' column\n",
    "df['Order_Demand'] = df['Order_Demand'].apply(lambda x: convert_to_int(x))"
   ]
  },
  {
   "cell_type": "code",
   "execution_count": 23,
   "id": "711ac3a6",
   "metadata": {},
   "outputs": [
    {
     "data": {
      "text/html": [
       "<div>\n",
       "<style scoped>\n",
       "    .dataframe tbody tr th:only-of-type {\n",
       "        vertical-align: middle;\n",
       "    }\n",
       "\n",
       "    .dataframe tbody tr th {\n",
       "        vertical-align: top;\n",
       "    }\n",
       "\n",
       "    .dataframe thead th {\n",
       "        text-align: right;\n",
       "    }\n",
       "</style>\n",
       "<table border=\"1\" class=\"dataframe\">\n",
       "  <thead>\n",
       "    <tr style=\"text-align: right;\">\n",
       "      <th></th>\n",
       "      <th>Order_Demand</th>\n",
       "    </tr>\n",
       "  </thead>\n",
       "  <tbody>\n",
       "    <tr>\n",
       "      <th>count</th>\n",
       "      <td>1.037336e+06</td>\n",
       "    </tr>\n",
       "    <tr>\n",
       "      <th>mean</th>\n",
       "      <td>4.949384e+03</td>\n",
       "    </tr>\n",
       "    <tr>\n",
       "      <th>std</th>\n",
       "      <td>2.907344e+04</td>\n",
       "    </tr>\n",
       "    <tr>\n",
       "      <th>min</th>\n",
       "      <td>0.000000e+00</td>\n",
       "    </tr>\n",
       "    <tr>\n",
       "      <th>25%</th>\n",
       "      <td>2.000000e+01</td>\n",
       "    </tr>\n",
       "    <tr>\n",
       "      <th>50%</th>\n",
       "      <td>3.000000e+02</td>\n",
       "    </tr>\n",
       "    <tr>\n",
       "      <th>75%</th>\n",
       "      <td>2.000000e+03</td>\n",
       "    </tr>\n",
       "    <tr>\n",
       "      <th>max</th>\n",
       "      <td>4.000000e+06</td>\n",
       "    </tr>\n",
       "  </tbody>\n",
       "</table>\n",
       "</div>"
      ],
      "text/plain": [
       "       Order_Demand\n",
       "count  1.037336e+06\n",
       "mean   4.949384e+03\n",
       "std    2.907344e+04\n",
       "min    0.000000e+00\n",
       "25%    2.000000e+01\n",
       "50%    3.000000e+02\n",
       "75%    2.000000e+03\n",
       "max    4.000000e+06"
      ]
     },
     "execution_count": 23,
     "metadata": {},
     "output_type": "execute_result"
    }
   ],
   "source": [
    "df.describe()"
   ]
  },
  {
   "cell_type": "code",
   "execution_count": null,
   "id": "5efe092a",
   "metadata": {},
   "outputs": [],
   "source": [
    "def change_to_int(x):\n",
    "    try:\n",
    "        return int(x)\n",
    "    except:\n",
    "        return int(x[1:-1])\n",
    "check = '(10)'\n",
    "change_to_int(check)"
   ]
  },
  {
   "cell_type": "code",
   "execution_count": 15,
   "id": "3566228d",
   "metadata": {},
   "outputs": [],
   "source": [
    "dataframe = df.copy()\n",
    "dataframe['day_of_the_week'] = dataframe.index.dayofweek\n",
    "dataframe['Quarter'] = dataframe.index.quarter\n",
    "dataframe['Month'] = dataframe.index.month\n",
    "dataframe['Year'] = dataframe.index.year\n",
    "dataframe['Week'] = dataframe.index.isocalendar().week.astype(int)\n",
    "\n"
   ]
  },
  {
   "cell_type": "code",
   "execution_count": 17,
   "id": "5a0059b4",
   "metadata": {},
   "outputs": [
    {
     "data": {
      "text/plain": [
       "Product_Code        object\n",
       "Warehouse           object\n",
       "Product_Category    object\n",
       "Order_Demand        object\n",
       "day_of_the_week      int64\n",
       "Quarter              int64\n",
       "Month                int64\n",
       "Year                 int64\n",
       "Week                 int64\n",
       "dtype: object"
      ]
     },
     "execution_count": 17,
     "metadata": {},
     "output_type": "execute_result"
    }
   ],
   "source": [
    "dataframe.dtypes"
   ]
  },
  {
   "cell_type": "code",
   "execution_count": null,
   "id": "b87e50b5",
   "metadata": {},
   "outputs": [],
   "source": []
  }
 ],
 "metadata": {
  "kernelspec": {
   "display_name": "Python 3 (ipykernel)",
   "language": "python",
   "name": "python3"
  },
  "language_info": {
   "codemirror_mode": {
    "name": "ipython",
    "version": 3
   },
   "file_extension": ".py",
   "mimetype": "text/x-python",
   "name": "python",
   "nbconvert_exporter": "python",
   "pygments_lexer": "ipython3",
   "version": "3.9.13"
  }
 },
 "nbformat": 4,
 "nbformat_minor": 5
}
